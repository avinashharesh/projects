{
  "nbformat": 4,
  "nbformat_minor": 0,
  "metadata": {
    "colab": {
      "provenance": [],
      "authorship_tag": "ABX9TyPKKZUWcRObLBegyvpqhcfg",
      "include_colab_link": true
    },
    "kernelspec": {
      "name": "python3",
      "display_name": "Python 3"
    },
    "language_info": {
      "name": "python"
    }
  },
  "cells": [
    {
      "cell_type": "markdown",
      "metadata": {
        "id": "view-in-github",
        "colab_type": "text"
      },
      "source": [
        "<a href=\"https://colab.research.google.com/github/avinashharesh/projects/blob/main/Spam_Mail_Detection.ipynb\" target=\"_parent\"><img src=\"https://colab.research.google.com/assets/colab-badge.svg\" alt=\"Open In Colab\"/></a>"
      ]
    },
    {
      "cell_type": "markdown",
      "source": [
        "Importing the Dependencies"
      ],
      "metadata": {
        "id": "3mb5GDhP7m-s"
      }
    },
    {
      "cell_type": "code",
      "source": [
        "import numpy as np \n",
        "import pandas as pd\n",
        "from sklearn.model_selection import train_test_split\n",
        "from sklearn.feature_extraction.text import  TfidfVectorizer\n",
        "from sklearn.linear_model import LogisticRegression\n",
        "from sklearn.metrics import accuracy_score"
      ],
      "metadata": {
        "id": "iiPOUN0E7qgv"
      },
      "execution_count": 1,
      "outputs": []
    },
    {
      "cell_type": "markdown",
      "source": [
        "Data Collection & Pre-Processing"
      ],
      "metadata": {
        "id": "BpIhueTb8ldG"
      }
    },
    {
      "cell_type": "code",
      "source": [
        "#loading the data from csv file to pandas Dataframe\n",
        "raw_mail_data=pd.read_csv('/content/mail_data.csv')"
      ],
      "metadata": {
        "id": "sRpbSxLa8pgJ"
      },
      "execution_count": 2,
      "outputs": []
    },
    {
      "cell_type": "code",
      "source": [
        "#replace the null values with a null string\n",
        "mail_data=raw_mail_data.where((pd.notnull(raw_mail_data)),'')"
      ],
      "metadata": {
        "id": "3rO27zfM9D1o"
      },
      "execution_count": 4,
      "outputs": []
    },
    {
      "cell_type": "markdown",
      "source": [
        "Label Encoding"
      ],
      "metadata": {
        "id": "V7l385qi98lU"
      }
    },
    {
      "cell_type": "code",
      "source": [
        "#label spam mail as 0; ham mail as 1;\n",
        "mail_data.loc[mail_data['Category']=='spam','Category',]=0\n",
        "mail_data.loc[mail_data['Category']=='ham','Category',]=1"
      ],
      "metadata": {
        "id": "AsfACO0Z9_CR"
      },
      "execution_count": 7,
      "outputs": []
    },
    {
      "cell_type": "markdown",
      "source": [
        "spam - 0,\n",
        "ham - 1"
      ],
      "metadata": {
        "id": "TvSM1GKP-mZ8"
      }
    },
    {
      "cell_type": "code",
      "source": [
        "#seperating the data as texts and label\n",
        "msg=mail_data['Message']\n",
        "lbl=mail_data['Category']"
      ],
      "metadata": {
        "id": "rcfCQR6E-vUt"
      },
      "execution_count": 12,
      "outputs": []
    },
    {
      "cell_type": "code",
      "source": [
        "msg_train,msg_test,lbl_train,lbl_test=train_test_split(msg,lbl,test_size=0.2,random_state=3)"
      ],
      "metadata": {
        "id": "ypvqQssM_LB3"
      },
      "execution_count": 15,
      "outputs": []
    },
    {
      "cell_type": "markdown",
      "source": [
        "Feature Extraction"
      ],
      "metadata": {
        "id": "oO5nRV-tF5c2"
      }
    },
    {
      "cell_type": "code",
      "source": [
        "#ltransform the text data to feature vectors that can be used as input to the Logistic regression\n",
        "feature_extraction=TfidfVectorizer(min_df=1,stop_words='english',lowercase='True')\n",
        "msg_train_features=feature_extraction.fit_transform(msg_train)\n",
        "msg_test_features=feature_extraction.transform(msg_test)\n",
        "\n",
        "#convert lbl_train and lbl_test values as integers\n",
        "lbl_train=lbl_train.astype('int')\n",
        "lbl_test=lbl_test.astype('int')\n"
      ],
      "metadata": {
        "id": "xHVi8Yu1F7wi"
      },
      "execution_count": 17,
      "outputs": []
    },
    {
      "cell_type": "markdown",
      "source": [
        "Training the Model"
      ],
      "metadata": {
        "id": "3qguSnP_NAID"
      }
    },
    {
      "cell_type": "code",
      "source": [
        "model=LogisticRegression()\n"
      ],
      "metadata": {
        "id": "UCW8oiKmM1ng"
      },
      "execution_count": 20,
      "outputs": []
    },
    {
      "cell_type": "code",
      "source": [
        "#training the logistic regression model with the training data\n",
        "model.fit(msg_train_features,lbl_train)"
      ],
      "metadata": {
        "colab": {
          "base_uri": "https://localhost:8080/"
        },
        "id": "ModmDVf9Vdvz",
        "outputId": "36d0a574-088d-41bf-eca1-784b2a4e6688"
      },
      "execution_count": 21,
      "outputs": [
        {
          "output_type": "execute_result",
          "data": {
            "text/plain": [
              "LogisticRegression()"
            ]
          },
          "metadata": {},
          "execution_count": 21
        }
      ]
    },
    {
      "cell_type": "markdown",
      "source": [
        "Evaluating the trained model"
      ],
      "metadata": {
        "id": "boD4Ydm-WAf3"
      }
    },
    {
      "cell_type": "code",
      "source": [
        "#prediction on training data\n",
        "prediction_on_training_data=model.predict(msg_train_features)\n",
        "accuracy_on_training_data=accuracy_score(lbl_train,prediction_on_training_data)"
      ],
      "metadata": {
        "id": "4yp_GVoGVwoJ"
      },
      "execution_count": 22,
      "outputs": []
    },
    {
      "cell_type": "code",
      "source": [
        "#prediction on test data\n",
        "prediction_on_test_data=model.predict(msg_test_features)\n",
        "accuracy_on_test_data=accuracy_score(lbl_test,prediction_on_test_data)"
      ],
      "metadata": {
        "id": "fMEcT-XcYY9r"
      },
      "execution_count": 24,
      "outputs": []
    },
    {
      "cell_type": "markdown",
      "source": [
        "Building a Predictive System"
      ],
      "metadata": {
        "id": "y4CmFs-aZtUy"
      }
    },
    {
      "cell_type": "code",
      "source": [
        "input_mail=[\"URGENT! You have won a 1 week FREE membership in our £100,000 Prize Jackpot! Txt the word: CLAIM to No: 81010 T&C www.dbuk.net LCCLTD POBOX 4403LDNW1A7RW18\"]\n",
        "\n",
        "#convert text to feature vectors\n",
        "input_data_features=feature_extraction.transform(input_mail)\n",
        "\n",
        "#making prediction\n",
        "prediction=model.predict(input_data_features)\n",
        "if prediction[0]==1:\n",
        "  print('Ham Mail')\n",
        "else:\n",
        "  print('Spam Mail')"
      ],
      "metadata": {
        "colab": {
          "base_uri": "https://localhost:8080/"
        },
        "id": "VHukQqolY21o",
        "outputId": "833657c2-a295-4ee7-b7a4-5323f0ec27ae"
      },
      "execution_count": 29,
      "outputs": [
        {
          "output_type": "stream",
          "name": "stdout",
          "text": [
            "Spam Mail\n"
          ]
        }
      ]
    }
  ]
}